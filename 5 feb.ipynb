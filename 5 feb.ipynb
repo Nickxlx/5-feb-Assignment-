{
 "cells": [
  {
   "cell_type": "markdown",
   "id": "fc9d0823-c9a3-4aa2-97d3-fee9180b47b4",
   "metadata": {},
   "source": [
    "Q1. Explain Class and Object with respect to Object-Oriented Programming. Give a suitable example.\n",
    "\n",
    "Answer--> class is like a blue print for creating objects"
   ]
  },
  {
   "cell_type": "code",
   "execution_count": 40,
   "id": "1cf0796d-cb66-481d-988c-584ed80d572f",
   "metadata": {},
   "outputs": [],
   "source": [
    "class employee:\n",
    "    \n",
    "    def __inti__(self):\n",
    "        print(\"Emoloyee is created\")\n",
    "   "
   ]
  },
  {
   "cell_type": "markdown",
   "id": "d7449c33-9f3b-4b82-9523-50a954c8a63d",
   "metadata": {},
   "source": [
    "Object is an instatiation of class . when class is define a templet is define but momory is only allocated after object is created "
   ]
  },
  {
   "cell_type": "code",
   "execution_count": 7,
   "id": "49882a5b-68b0-4a93-a2b8-23eb7934951d",
   "metadata": {},
   "outputs": [],
   "source": [
    "emp = employee()"
   ]
  },
  {
   "cell_type": "code",
   "execution_count": 9,
   "id": "532ccafd-81e0-4481-aba9-efe589640f7b",
   "metadata": {},
   "outputs": [
    {
     "data": {
      "text/plain": [
       "<__main__.employee at 0x7fd998464f10>"
      ]
     },
     "execution_count": 9,
     "metadata": {},
     "output_type": "execute_result"
    }
   ],
   "source": [
    "emp"
   ]
  },
  {
   "cell_type": "code",
   "execution_count": null,
   "id": "cc646e3f-43b0-4b8c-a567-631906c4f95f",
   "metadata": {},
   "outputs": [],
   "source": []
  },
  {
   "cell_type": "markdown",
   "id": "b52caa6c-60fe-462e-aa48-f2938da5ab36",
   "metadata": {},
   "source": [
    "Q2. Name the four pillars of OOPs.\n",
    "\n",
    "Answer--> 1 polymorphism \n",
    "          2 inheritance\n",
    "          3 encapsulation\n",
    "          4 Abstraction"
   ]
  },
  {
   "cell_type": "code",
   "execution_count": null,
   "id": "500eaab7-2ef0-40b2-b676-abe8ab7145ee",
   "metadata": {},
   "outputs": [],
   "source": []
  },
  {
   "cell_type": "markdown",
   "id": "06685550-5296-4b55-8ca9-36c6fbf5cc9b",
   "metadata": {},
   "source": [
    "Q3. Explain why the __init__() function is used. Give a suitable example.\n",
    "\n",
    "Answer-->It is a constructor which having a unique function that gets called automatically when an object is created of a class and takes memory space when ever its call. It cannot return any value other than none."
   ]
  },
  {
   "cell_type": "code",
   "execution_count": 10,
   "id": "e744675d-e242-4746-bf36-118c3f2e78bb",
   "metadata": {},
   "outputs": [],
   "source": [
    "class pwskills :\n",
    "    \n",
    "    def __init__(self, ph_no , email_id, student_id):   \n",
    "        self.ph_no = ph_no                            \n",
    "        self.email = email_id\n",
    "        self.student_id = student_id\n",
    "    \n",
    "    def student_details (self):\n",
    "        return  self.ph_no ,self.email, self.student_id"
   ]
  },
  {
   "cell_type": "code",
   "execution_count": 11,
   "id": "341ed67e-4122-4d7b-9a34-fe255ec5cf5d",
   "metadata": {},
   "outputs": [],
   "source": [
    "pw = pwskills(981548522, \"nikhil@gmail.com\", 101)"
   ]
  },
  {
   "cell_type": "code",
   "execution_count": 13,
   "id": "6b29d09e-d895-4dfc-a10f-73425718390b",
   "metadata": {},
   "outputs": [
    {
     "data": {
      "text/plain": [
       "(981548522, 'nikhil@gmail.com', 101)"
      ]
     },
     "execution_count": 13,
     "metadata": {},
     "output_type": "execute_result"
    }
   ],
   "source": [
    "pw.student_details()"
   ]
  },
  {
   "cell_type": "code",
   "execution_count": null,
   "id": "4fb5949b-ffed-4189-8220-068eb6d00367",
   "metadata": {},
   "outputs": [],
   "source": []
  },
  {
   "cell_type": "markdown",
   "id": "88eaa299-9c16-4855-a16f-471114df7c61",
   "metadata": {},
   "source": [
    "Q4. Why self is used in OOPs?\n",
    "\n",
    "Answer--> self is a compasoury parameter should passed at first position in function to bind it with the class.\n",
    "As it is not a reserved keyword so its can be repalacable by any other word "
   ]
  },
  {
   "cell_type": "code",
   "execution_count": null,
   "id": "bfbfd146-8d07-4516-a9f5-ae8a4eccfa0a",
   "metadata": {},
   "outputs": [],
   "source": []
  },
  {
   "cell_type": "markdown",
   "id": "16115b28-0ce5-48f7-80a6-b1b6b0d63bd4",
   "metadata": {},
   "source": [
    "Q5. What is inheritance? Give an example for each type of inheritance.\n",
    "\n",
    "Answer--> inheritance allow us to define a class that inherits all the methods and properties from another class which is know as parent class .\n",
    "There are two types of inheritance in python\n"
   ]
  },
  {
   "cell_type": "markdown",
   "id": "584f9f51-60a2-48e2-94b2-c9199c50c0c9",
   "metadata": {},
   "source": [
    "1 multilable inheritance "
   ]
  },
  {
   "cell_type": "code",
   "execution_count": 19,
   "id": "7682b899-500f-4d3a-9327-05df50c5b39f",
   "metadata": {},
   "outputs": [],
   "source": [
    "class parent1 :\n",
    "    \n",
    "    def meth1(self):\n",
    "        return \"This is parent1 class\""
   ]
  },
  {
   "cell_type": "code",
   "execution_count": 20,
   "id": "d865216d-76d3-44f8-bca5-a315542f012f",
   "metadata": {},
   "outputs": [],
   "source": [
    "class parent2(parent1):\n",
    "    \n",
    "    def meth2(self):\n",
    "        return \"This is parent2 class\""
   ]
  },
  {
   "cell_type": "code",
   "execution_count": 21,
   "id": "648a7b5b-8dc5-44c5-a18c-b8fc973dfd48",
   "metadata": {},
   "outputs": [],
   "source": [
    "class child1(parent2):\n",
    "    pass"
   ]
  },
  {
   "cell_type": "code",
   "execution_count": 22,
   "id": "aa51f77f-c6b5-4d74-a271-74b91d059cf7",
   "metadata": {},
   "outputs": [],
   "source": [
    "c_obj = child1()"
   ]
  },
  {
   "cell_type": "code",
   "execution_count": 24,
   "id": "08e1c286-6736-4ad0-8b69-846cbdef472b",
   "metadata": {},
   "outputs": [
    {
     "data": {
      "text/plain": [
       "'This is parent2 class'"
      ]
     },
     "execution_count": 24,
     "metadata": {},
     "output_type": "execute_result"
    }
   ],
   "source": [
    "c_obj.meth2()"
   ]
  },
  {
   "cell_type": "code",
   "execution_count": 25,
   "id": "a23da9e2-6f45-4125-9d69-0f24d530146b",
   "metadata": {},
   "outputs": [
    {
     "data": {
      "text/plain": [
       "'This is parent1 class'"
      ]
     },
     "execution_count": 25,
     "metadata": {},
     "output_type": "execute_result"
    }
   ],
   "source": [
    "c_obj.meth1()"
   ]
  },
  {
   "cell_type": "markdown",
   "id": "fed53771-48b0-43cf-bd14-3e749ee0713d",
   "metadata": {},
   "source": [
    "2  multiple inheritance"
   ]
  },
  {
   "cell_type": "code",
   "execution_count": 30,
   "id": "5493af8a-b749-47d1-9814-246d447c8615",
   "metadata": {},
   "outputs": [],
   "source": [
    "class parent1 :\n",
    "    \n",
    "    def meth1(self):\n",
    "        return \"This is parent1 class\""
   ]
  },
  {
   "cell_type": "code",
   "execution_count": 33,
   "id": "cfaf34e8-5a3b-4197-a557-95ab40f4b32d",
   "metadata": {},
   "outputs": [],
   "source": [
    "class parent2:\n",
    "    \n",
    "    def meth2(self):\n",
    "        return \"This is parent2 class\""
   ]
  },
  {
   "cell_type": "code",
   "execution_count": 34,
   "id": "86da3a13-02a1-4bda-9e20-e421bcbba21f",
   "metadata": {},
   "outputs": [],
   "source": [
    "class child1(parent1, parent2):\n",
    "    pass"
   ]
  },
  {
   "cell_type": "code",
   "execution_count": 36,
   "id": "403388c0-9847-4d69-b245-739177994789",
   "metadata": {},
   "outputs": [],
   "source": [
    "c_obj = child1()"
   ]
  },
  {
   "cell_type": "code",
   "execution_count": 38,
   "id": "ce27d052-7aea-4eb6-8a8f-d6f6038c0b60",
   "metadata": {},
   "outputs": [
    {
     "data": {
      "text/plain": [
       "'This is parent2 class'"
      ]
     },
     "execution_count": 38,
     "metadata": {},
     "output_type": "execute_result"
    }
   ],
   "source": [
    "c_obj.meth2()"
   ]
  },
  {
   "cell_type": "code",
   "execution_count": 39,
   "id": "c80f0b8c-5df3-447c-9c6f-28d367d10353",
   "metadata": {},
   "outputs": [
    {
     "data": {
      "text/plain": [
       "'This is parent1 class'"
      ]
     },
     "execution_count": 39,
     "metadata": {},
     "output_type": "execute_result"
    }
   ],
   "source": [
    "c_obj.meth1()"
   ]
  },
  {
   "cell_type": "code",
   "execution_count": null,
   "id": "362f3a22-198f-46d4-95f7-b25b2358f92f",
   "metadata": {},
   "outputs": [],
   "source": []
  },
  {
   "cell_type": "code",
   "execution_count": null,
   "id": "fac8afdd-277b-4d6b-8846-41d807f8d5a4",
   "metadata": {},
   "outputs": [],
   "source": []
  },
  {
   "cell_type": "code",
   "execution_count": null,
   "id": "c78fb29c-1dce-4435-a336-5df47b9b9e07",
   "metadata": {},
   "outputs": [],
   "source": []
  },
  {
   "cell_type": "code",
   "execution_count": null,
   "id": "de953e1a-faee-4738-8acc-4e0c081fffb1",
   "metadata": {},
   "outputs": [],
   "source": []
  },
  {
   "cell_type": "code",
   "execution_count": null,
   "id": "f2df3aef-cf33-4fcd-a1cb-ef2d90916b9b",
   "metadata": {},
   "outputs": [],
   "source": []
  },
  {
   "cell_type": "code",
   "execution_count": null,
   "id": "a5279957-6437-451b-bb72-b6f4e319c989",
   "metadata": {},
   "outputs": [],
   "source": []
  },
  {
   "cell_type": "code",
   "execution_count": null,
   "id": "d8e6c436-5219-4af1-bc77-d6f26722ac1e",
   "metadata": {},
   "outputs": [],
   "source": []
  },
  {
   "cell_type": "code",
   "execution_count": null,
   "id": "8e79f09c-b454-4e6f-98d7-cbbe1518fe35",
   "metadata": {},
   "outputs": [],
   "source": []
  },
  {
   "cell_type": "code",
   "execution_count": null,
   "id": "dc2e488a-ac13-4d3e-a248-ce9af3795730",
   "metadata": {},
   "outputs": [],
   "source": []
  },
  {
   "cell_type": "code",
   "execution_count": null,
   "id": "f35f1bb0-858f-4683-b811-0b9b4f267baa",
   "metadata": {},
   "outputs": [],
   "source": []
  },
  {
   "cell_type": "code",
   "execution_count": null,
   "id": "24b9eb6e-051d-4cdf-867c-453440f875a3",
   "metadata": {},
   "outputs": [],
   "source": []
  },
  {
   "cell_type": "code",
   "execution_count": null,
   "id": "1a4715ed-0839-4513-a1af-7feb11c752eb",
   "metadata": {},
   "outputs": [],
   "source": []
  },
  {
   "cell_type": "code",
   "execution_count": null,
   "id": "7dbe0daa-b5ed-4885-97f0-6955a2aed04a",
   "metadata": {},
   "outputs": [],
   "source": []
  },
  {
   "cell_type": "code",
   "execution_count": null,
   "id": "c6ff1ac8-9c60-457e-b10d-09fa430f7898",
   "metadata": {},
   "outputs": [],
   "source": []
  },
  {
   "cell_type": "code",
   "execution_count": null,
   "id": "ed881b0d-6c85-480b-98b6-5d4449c64cb6",
   "metadata": {},
   "outputs": [],
   "source": []
  },
  {
   "cell_type": "code",
   "execution_count": null,
   "id": "67a3ee79-0527-49c3-b01a-a127662f8c19",
   "metadata": {},
   "outputs": [],
   "source": []
  },
  {
   "cell_type": "code",
   "execution_count": null,
   "id": "43a22fcf-95af-4a97-857f-fc9173356f77",
   "metadata": {},
   "outputs": [],
   "source": []
  },
  {
   "cell_type": "code",
   "execution_count": null,
   "id": "6562155b-c3f0-4bad-a4a9-cc426fd0c5ac",
   "metadata": {},
   "outputs": [],
   "source": []
  },
  {
   "cell_type": "code",
   "execution_count": null,
   "id": "7ef698a0-5a75-4fd2-9fa3-d24ae5f13a2c",
   "metadata": {},
   "outputs": [],
   "source": []
  },
  {
   "cell_type": "code",
   "execution_count": null,
   "id": "da3a0b7e-eb7e-4f44-bbb0-b1ecce85a588",
   "metadata": {},
   "outputs": [],
   "source": []
  },
  {
   "cell_type": "code",
   "execution_count": null,
   "id": "31587a08-ea28-4aff-ac97-0c107eccc7c7",
   "metadata": {},
   "outputs": [],
   "source": []
  },
  {
   "cell_type": "code",
   "execution_count": null,
   "id": "02d2160d-87e5-44b0-9104-029d9b6c032e",
   "metadata": {},
   "outputs": [],
   "source": []
  },
  {
   "cell_type": "code",
   "execution_count": null,
   "id": "e56365c1-c3bb-4a4b-8fe0-ea0fd0b0c3a7",
   "metadata": {},
   "outputs": [],
   "source": []
  },
  {
   "cell_type": "code",
   "execution_count": null,
   "id": "c427ed85-c147-431e-b994-ee3715c8b8c7",
   "metadata": {},
   "outputs": [],
   "source": []
  },
  {
   "cell_type": "code",
   "execution_count": null,
   "id": "cc325b94-7d89-4669-a286-cd4687082709",
   "metadata": {},
   "outputs": [],
   "source": []
  },
  {
   "cell_type": "code",
   "execution_count": null,
   "id": "8487baf7-f251-406d-805f-55e03bdfe2e3",
   "metadata": {},
   "outputs": [],
   "source": []
  },
  {
   "cell_type": "code",
   "execution_count": null,
   "id": "7014ae1a-92c2-4e78-bb00-5912a4d5b970",
   "metadata": {},
   "outputs": [],
   "source": []
  },
  {
   "cell_type": "code",
   "execution_count": null,
   "id": "0864875b-46bb-495c-aea3-c49b3770737b",
   "metadata": {},
   "outputs": [],
   "source": []
  },
  {
   "cell_type": "code",
   "execution_count": null,
   "id": "43bf0ef5-81a2-467a-b4be-80fcddbc43c8",
   "metadata": {},
   "outputs": [],
   "source": []
  },
  {
   "cell_type": "code",
   "execution_count": null,
   "id": "5d5decb5-a009-4daf-b023-1360e06c49bd",
   "metadata": {},
   "outputs": [],
   "source": []
  },
  {
   "cell_type": "code",
   "execution_count": null,
   "id": "decfc415-08dc-42eb-98c6-14809d3c995b",
   "metadata": {},
   "outputs": [],
   "source": []
  },
  {
   "cell_type": "code",
   "execution_count": null,
   "id": "4abaf771-ad55-4a6e-8768-5b05e17b89ed",
   "metadata": {},
   "outputs": [],
   "source": []
  },
  {
   "cell_type": "code",
   "execution_count": null,
   "id": "07c72c78-e68d-4a23-a081-cc106f3e312e",
   "metadata": {},
   "outputs": [],
   "source": []
  },
  {
   "cell_type": "code",
   "execution_count": null,
   "id": "4c72105b-cd7d-4fe2-8271-69cd6f0dd409",
   "metadata": {},
   "outputs": [],
   "source": []
  },
  {
   "cell_type": "code",
   "execution_count": null,
   "id": "a6fe2687-0e74-469f-9846-9d79f497782d",
   "metadata": {},
   "outputs": [],
   "source": []
  },
  {
   "cell_type": "code",
   "execution_count": null,
   "id": "f2a9ff38-4cda-4b88-b60a-c16ef539c864",
   "metadata": {},
   "outputs": [],
   "source": []
  },
  {
   "cell_type": "code",
   "execution_count": null,
   "id": "668fccec-8149-4f0b-8e2f-31c05319a095",
   "metadata": {},
   "outputs": [],
   "source": []
  },
  {
   "cell_type": "code",
   "execution_count": null,
   "id": "c96eb174-ec4e-45f2-8870-1d3f362a371f",
   "metadata": {},
   "outputs": [],
   "source": []
  },
  {
   "cell_type": "code",
   "execution_count": null,
   "id": "fcfb073b-3da5-4b9c-a6eb-52a924d58237",
   "metadata": {},
   "outputs": [],
   "source": []
  },
  {
   "cell_type": "code",
   "execution_count": null,
   "id": "93210abc-dd9c-470d-a39e-5f2789a8186c",
   "metadata": {},
   "outputs": [],
   "source": []
  },
  {
   "cell_type": "code",
   "execution_count": null,
   "id": "cc8b2fc3-bb65-46c9-999e-c57be14cc237",
   "metadata": {},
   "outputs": [],
   "source": []
  },
  {
   "cell_type": "code",
   "execution_count": null,
   "id": "3a87e274-451f-4dbe-bbee-88b49256fd0e",
   "metadata": {},
   "outputs": [],
   "source": []
  },
  {
   "cell_type": "code",
   "execution_count": null,
   "id": "c9f90e4b-aa0b-4c31-b87e-cb227ce015cc",
   "metadata": {},
   "outputs": [],
   "source": []
  },
  {
   "cell_type": "code",
   "execution_count": null,
   "id": "ac9ead9e-b3bb-4a9f-b6dc-ed26fd8b93fe",
   "metadata": {},
   "outputs": [],
   "source": []
  },
  {
   "cell_type": "code",
   "execution_count": null,
   "id": "6ceb4d44-91bf-4923-a1c5-d0a6a8492c41",
   "metadata": {},
   "outputs": [],
   "source": []
  },
  {
   "cell_type": "code",
   "execution_count": null,
   "id": "3ed1cd96-f4ba-4f8b-b366-2fb86c9f1d81",
   "metadata": {},
   "outputs": [],
   "source": []
  },
  {
   "cell_type": "code",
   "execution_count": null,
   "id": "99260687-fe17-4c34-b066-fb87bd81f131",
   "metadata": {},
   "outputs": [],
   "source": []
  },
  {
   "cell_type": "code",
   "execution_count": null,
   "id": "2eb7249a-61af-45b2-9429-69e9d2297e57",
   "metadata": {},
   "outputs": [],
   "source": []
  },
  {
   "cell_type": "code",
   "execution_count": null,
   "id": "1b97e81a-d4e7-45d2-8f23-87a3ae5ad2d9",
   "metadata": {},
   "outputs": [],
   "source": []
  },
  {
   "cell_type": "code",
   "execution_count": null,
   "id": "1430ba0f-4a62-473e-9c61-25108f1613b6",
   "metadata": {},
   "outputs": [],
   "source": []
  },
  {
   "cell_type": "code",
   "execution_count": null,
   "id": "994fe165-7192-4e6b-b80e-2ba5aaeafd0a",
   "metadata": {},
   "outputs": [],
   "source": []
  },
  {
   "cell_type": "code",
   "execution_count": null,
   "id": "58fe5259-2fc7-4634-9851-e3e874fc3c50",
   "metadata": {},
   "outputs": [],
   "source": []
  },
  {
   "cell_type": "code",
   "execution_count": null,
   "id": "fc81c616-5b49-41c9-b649-d5d685a12f8b",
   "metadata": {},
   "outputs": [],
   "source": []
  },
  {
   "cell_type": "code",
   "execution_count": null,
   "id": "64bfee63-e22c-4bde-abdf-ce995e80533c",
   "metadata": {},
   "outputs": [],
   "source": []
  },
  {
   "cell_type": "code",
   "execution_count": null,
   "id": "c0b2e767-7739-4303-bf1c-c762ae78130f",
   "metadata": {},
   "outputs": [],
   "source": []
  },
  {
   "cell_type": "code",
   "execution_count": null,
   "id": "fa184aca-636b-466d-af24-6f3dd4ddfe3f",
   "metadata": {},
   "outputs": [],
   "source": []
  },
  {
   "cell_type": "code",
   "execution_count": null,
   "id": "fb7cad9e-7ccb-4c6c-939d-5c96298f958e",
   "metadata": {},
   "outputs": [],
   "source": []
  },
  {
   "cell_type": "code",
   "execution_count": null,
   "id": "f3ff1ca7-d7e2-4059-b5ac-a6d5b85fba85",
   "metadata": {},
   "outputs": [],
   "source": []
  },
  {
   "cell_type": "code",
   "execution_count": null,
   "id": "af992b2f-c15b-4afc-9f2c-7ec0c2db9844",
   "metadata": {},
   "outputs": [],
   "source": []
  },
  {
   "cell_type": "code",
   "execution_count": null,
   "id": "a3060387-65b3-4857-b435-b82ff436871f",
   "metadata": {},
   "outputs": [],
   "source": []
  },
  {
   "cell_type": "code",
   "execution_count": null,
   "id": "063a741d-bbaa-4577-8f75-85b7f4137956",
   "metadata": {},
   "outputs": [],
   "source": []
  },
  {
   "cell_type": "code",
   "execution_count": null,
   "id": "3e7162ed-b359-4355-b950-cd5d6d7cec22",
   "metadata": {},
   "outputs": [],
   "source": []
  },
  {
   "cell_type": "code",
   "execution_count": null,
   "id": "1e77f6ec-4bcc-40eb-af96-0dd22a3502fd",
   "metadata": {},
   "outputs": [],
   "source": []
  },
  {
   "cell_type": "code",
   "execution_count": null,
   "id": "ecde020a-c5f3-45d9-ac10-5b4f641eaf66",
   "metadata": {},
   "outputs": [],
   "source": []
  },
  {
   "cell_type": "code",
   "execution_count": null,
   "id": "a2082412-1a19-424d-bd5a-e5af9e0e26db",
   "metadata": {},
   "outputs": [],
   "source": []
  },
  {
   "cell_type": "code",
   "execution_count": null,
   "id": "fe127ffd-58de-46f3-8a32-505230e09024",
   "metadata": {},
   "outputs": [],
   "source": []
  },
  {
   "cell_type": "code",
   "execution_count": null,
   "id": "a8e85973-6155-4abd-bd1d-57f451a939c0",
   "metadata": {},
   "outputs": [],
   "source": []
  },
  {
   "cell_type": "code",
   "execution_count": null,
   "id": "cf4ad812-a4cf-49a4-9d30-b76ca47163fa",
   "metadata": {},
   "outputs": [],
   "source": []
  }
 ],
 "metadata": {
  "kernelspec": {
   "display_name": "Python 3 (ipykernel)",
   "language": "python",
   "name": "python3"
  },
  "language_info": {
   "codemirror_mode": {
    "name": "ipython",
    "version": 3
   },
   "file_extension": ".py",
   "mimetype": "text/x-python",
   "name": "python",
   "nbconvert_exporter": "python",
   "pygments_lexer": "ipython3",
   "version": "3.10.8"
  }
 },
 "nbformat": 4,
 "nbformat_minor": 5
}
